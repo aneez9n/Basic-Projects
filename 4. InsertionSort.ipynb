{
 "cells": [
  {
   "cell_type": "code",
   "execution_count": 4,
   "metadata": {},
   "outputs": [
    {
     "name": "stdout",
     "output_type": "stream",
     "text": [
      "Sorted array is:  7 13 16 19 22 22 27 32 34 67 88 98 99 111 120 280 "
     ]
    }
   ],
   "source": [
    "# Insertion Sort \n",
    "\n",
    "\n",
    "def InsertionSort(arr): \n",
    "\n",
    "    # Traverse from 1 to len(arr) \n",
    "    for i in range(1, len(array)): \n",
    "\n",
    "        key = array[i] \n",
    "\n",
    "        # Move elements of arr[0..i-1], that are \n",
    "        # greater than key, to one position ahead \n",
    "        # of their current position \n",
    "        j = i-1\n",
    "        while j >=0 and key < array[j] : \n",
    "                array[j+1] = array[j] \n",
    "                j -= 1\n",
    "        array[j+1] = key \n",
    "\n",
    "\n",
    " \n",
    "array = [16, 22, 13, 34, 111, 19, 7, 32, 67, 98, 120, 88, 22, 27, 280, 99]\n",
    "InsertionSort(array) \n",
    "print (\"Sorted array is: \", end = ' ') \n",
    "for i in range(len(array)): \n",
    "    print (\"%d\" %array[i], end = ' ') "
   ]
  },
  {
   "cell_type": "code",
   "execution_count": null,
   "metadata": {},
   "outputs": [],
   "source": []
  }
 ],
 "metadata": {
  "kernelspec": {
   "display_name": "Python 3",
   "language": "python",
   "name": "python3"
  },
  "language_info": {
   "codemirror_mode": {
    "name": "ipython",
    "version": 3
   },
   "file_extension": ".py",
   "mimetype": "text/x-python",
   "name": "python",
   "nbconvert_exporter": "python",
   "pygments_lexer": "ipython3",
   "version": "3.8.5"
  }
 },
 "nbformat": 4,
 "nbformat_minor": 4
}
