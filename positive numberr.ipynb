{
 "cells": [
  {
   "cell_type": "code",
   "execution_count": 1,
   "metadata": {},
   "outputs": [
    {
     "name": "stdout",
     "output_type": "stream",
     "text": [
      "x is a possitive number :  \n",
      "it is a possitive number and it is also grater then three \n"
     ]
    }
   ],
   "source": [
    "x = 8\n",
    "if x >= 0:\n",
    "    print(\"x is a possitive number :  \" )\n",
    "    if x > 3:\n",
    "        print(\"it is a possitive number and it is also grater then three \")\n",
    "elif x < 0:\n",
    "    print(\"x is a negative number :  \")\n",
    "else:\n",
    "    print(\"its may be a complex number. \")"
   ]
  },
  {
   "cell_type": "code",
   "execution_count": null,
   "metadata": {},
   "outputs": [],
   "source": []
  }
 ],
 "metadata": {
  "kernelspec": {
   "display_name": "Python 3",
   "language": "python",
   "name": "python3"
  },
  "language_info": {
   "codemirror_mode": {
    "name": "ipython",
    "version": 3
   },
   "file_extension": ".py",
   "mimetype": "text/x-python",
   "name": "python",
   "nbconvert_exporter": "python",
   "pygments_lexer": "ipython3",
   "version": "3.7.3"
  }
 },
 "nbformat": 4,
 "nbformat_minor": 2
}
