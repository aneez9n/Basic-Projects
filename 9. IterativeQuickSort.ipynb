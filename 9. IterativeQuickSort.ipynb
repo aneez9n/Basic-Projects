{
 "cells": [
  {
   "cell_type": "code",
   "execution_count": 15,
   "metadata": {},
   "outputs": [
    {
     "data": {
      "text/plain": [
       "[7, 13, 16, 19, 22, 22, 27, 32, 34, 67, 88, 98, 99, 111, 120, 280]"
      ]
     },
     "execution_count": 15,
     "metadata": {},
     "output_type": "execute_result"
    }
   ],
   "source": [
    "def sort(array = [16, 22, 13, 34, 111, 19, 7, 32, 67, 98, 120, 88, 22, 27, 280, 99]):\n",
    "    \"\"\"Sort the array by using quicksort.\"\"\"\n",
    "\n",
    "    less = []\n",
    "    equal = []\n",
    "    greater = []\n",
    "\n",
    "    if len(array) > 1:\n",
    "        pivot = array[0]\n",
    "        for x in array:\n",
    "            if x < pivot:\n",
    "                less.append(x)\n",
    "            elif x == pivot:\n",
    "                equal.append(x)\n",
    "            elif x > pivot:\n",
    "                greater.append(x)\n",
    "        # Don't forget to return something!\n",
    "        return sort(less)+equal+sort(greater)  # Just use the + operator to join lists\n",
    "    # Note that you want equal ^^^^^ not pivot\n",
    "    else:  # You need to handle the part at the end of the recursion - when you only have one element in your array, just return the array.\n",
    "        return array\n",
    "def quicksort(arr):\n",
    "  if len(arr) <= 1:\n",
    "    return arr\n",
    "\n",
    "  left  = []\n",
    "  right = []\n",
    "  equal = []\n",
    "  pivot = arr[-1]\n",
    "  for num in arr:\n",
    "    if num < pivot:\n",
    "      left.append(num)\n",
    "    elif num == pivot:\n",
    "      equal.append(num)\n",
    "    else:\n",
    "      right.append(num)\n",
    "\n",
    "  return quicksort(left) + equal + quicksort(right)\n",
    "sort()"
   ]
  },
  {
   "cell_type": "code",
   "execution_count": null,
   "metadata": {},
   "outputs": [],
   "source": []
  }
 ],
 "metadata": {
  "kernelspec": {
   "display_name": "Python 3",
   "language": "python",
   "name": "python3"
  },
  "language_info": {
   "codemirror_mode": {
    "name": "ipython",
    "version": 3
   },
   "file_extension": ".py",
   "mimetype": "text/x-python",
   "name": "python",
   "nbconvert_exporter": "python",
   "pygments_lexer": "ipython3",
   "version": "3.8.5"
  }
 },
 "nbformat": 4,
 "nbformat_minor": 4
}
