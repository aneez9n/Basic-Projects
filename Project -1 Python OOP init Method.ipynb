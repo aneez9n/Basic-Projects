{
 "cells": [
  {
   "cell_type": "code",
   "execution_count": null,
   "metadata": {},
   "outputs": [],
   "source": [
    "#pythom oops \"init\" method\n",
    "\n",
    "class method:\n",
    "    \n",
    "    def __init__(self, cpu, ram):\n",
    "        self.ram = ram\n",
    "        self.cpu=cpu\n",
    "        \n",
    "    def config(self):\n",
    "        print(\"config is\", self.cpu, self.ram)\n",
    "        \n",
    "        \n",
    "com1 = method('12',5)\n",
    "com2 = method('ryan 8', 8)\n",
    "\n",
    "com1.config()\n"
   ]
  }
 ],
 "metadata": {
  "kernelspec": {
   "display_name": "Python 3",
   "language": "python",
   "name": "python3"
  },
  "language_info": {
   "codemirror_mode": {
    "name": "ipython",
    "version": 3
   },
   "file_extension": ".py",
   "mimetype": "text/x-python",
   "name": "python",
   "nbconvert_exporter": "python",
   "pygments_lexer": "ipython3",
   "version": "3.7.3"
  }
 },
 "nbformat": 4,
 "nbformat_minor": 2
}
#kindly run the code and then upload it here
